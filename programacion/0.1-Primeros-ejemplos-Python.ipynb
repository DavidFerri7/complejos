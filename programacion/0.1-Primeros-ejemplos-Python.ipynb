{
 "cells": [
  {
   "cell_type": "markdown",
   "metadata": {},
   "source": [
    "# Lab 0. Primeros ejemplos en Python"
   ]
  },
  {
   "cell_type": "markdown",
   "metadata": {},
   "source": [
    "## 1. Un programa Python"
   ]
  },
  {
   "cell_type": "markdown",
   "metadata": {},
   "source": [
    "Un **programa** Python es un conjunto de *sentencias* que el intérprete Python puede ejecutar. Los programas también pueden contener **comentarios**, notas que el programador incluye para aclarar cualquier aspecto sobre el código, que son ignoradas por el intérprete. Las líneas de comentario en Python siempre empiezan con el símbolo `#`:\n",
    "\n",
    "```python\n",
    "# Esta es una linea de comentario que el interprete ignora\n",
    "```\n",
    "\n",
    "Algunos ejemplos de sentencias son:"
   ]
  },
  {
   "cell_type": "markdown",
   "metadata": {},
   "source": [
    "**Sentencias `import`**"
   ]
  },
  {
   "cell_type": "code",
   "execution_count": 6,
   "metadata": {
    "scrolled": true
   },
   "outputs": [
    {
     "data": {
      "text/plain": [
       "3.141592653589793"
      ]
     },
     "execution_count": 6,
     "metadata": {},
     "output_type": "execute_result"
    }
   ],
   "source": [
    "# Para cargar una biblioteca Python con funciones adicionales\n",
    "# Una biblioteca contiene variables y funciones que podemos usar en nuestros programas\n",
    "# Por ejemplo, para cargar la biblioteca estándar de variables y funciones matemáticas:\n",
    "import math\n",
    "math.pi  # Numero pi"
   ]
  },
  {
   "cell_type": "code",
   "execution_count": 7,
   "metadata": {},
   "outputs": [
    {
     "data": {
      "text/plain": [
       "2.718281828459045"
      ]
     },
     "execution_count": 7,
     "metadata": {},
     "output_type": "execute_result"
    }
   ],
   "source": [
    "math.e  # Número e"
   ]
  },
  {
   "cell_type": "markdown",
   "metadata": {},
   "source": [
    "**Sentencias de asignación**"
   ]
  },
  {
   "cell_type": "code",
   "execution_count": 8,
   "metadata": {},
   "outputs": [],
   "source": [
    "# Se usan para crear nuevas variables\n",
    "perimetro = 36\n",
    "apotema = 6.345\n",
    "condicion_parada = False\n",
    "frase = \"To be or not to be...\""
   ]
  },
  {
   "cell_type": "markdown",
   "metadata": {},
   "source": [
    "**Sentencias condicionales y bucles**"
   ]
  },
  {
   "cell_type": "code",
   "execution_count": 9,
   "metadata": {
    "scrolled": true
   },
   "outputs": [
    {
     "name": "stdout",
     "output_type": "stream",
     "text": [
      "5\n",
      "4\n",
      "3\n",
      "2\n",
      "1\n",
      "go!\n"
     ]
    }
   ],
   "source": [
    "# Por ejemplo, el bucle for\n",
    "for countdown in 5, 4, 3, 2, 1, \"go!\":\n",
    "    print(countdown)"
   ]
  },
  {
   "cell_type": "markdown",
   "metadata": {},
   "source": [
    "**Expresiones**"
   ]
  },
  {
   "cell_type": "markdown",
   "metadata": {},
   "source": [
    "Las expresiones incluyen cualquier cosa que el compilador Python pueda evaluar para retornar un resultado (estrictamente hablando, devuelve un objeto Python). Esto incluye cualquier combinación de:\n",
    "* variables;\n",
    "* valores (literales);\n",
    "* operadores (aritméticos o lógicos, ver más adelante secciones 4 y 5 de este notebook);\n",
    "* llamadas a funciones;\n",
    "\n",
    "Veamos algunos ejemplos de expresiones que combinan estos elementos:"
   ]
  },
  {
   "cell_type": "code",
   "execution_count": 5,
   "metadata": {},
   "outputs": [
    {
     "data": {
      "text/plain": [
       "90.13329863558405"
      ]
     },
     "execution_count": 5,
     "metadata": {},
     "output_type": "execute_result"
    }
   ],
   "source": [
    "# Expresiones aritméticas\n",
    "(111 + 222 + 333) / (math.e ** 2)"
   ]
  },
  {
   "cell_type": "code",
   "execution_count": 6,
   "metadata": {},
   "outputs": [
    {
     "name": "stdout",
     "output_type": "stream",
     "text": [
      "9\n"
     ]
    }
   ],
   "source": [
    "base = 3\n",
    "print(base ** 2)"
   ]
  },
  {
   "cell_type": "code",
   "execution_count": 7,
   "metadata": {},
   "outputs": [
    {
     "name": "stdout",
     "output_type": "stream",
     "text": [
      "This is a call to the print function\n"
     ]
    }
   ],
   "source": [
    "# Una llamada a función también es una expresión\n",
    "print(\"This is a call to the print function\")"
   ]
  },
  {
   "cell_type": "markdown",
   "metadata": {},
   "source": [
    "## 2. Variables y tipos de datos básicos"
   ]
  },
  {
   "cell_type": "markdown",
   "metadata": {},
   "source": [
    "Las variables son los elementos básicos de programación en Python para almacenar valores y usarlos luego en nuestro programa. Las variables apuntan a valores guardados en una localización concreta en memoria, y les damos un nombre (como una etiqueta de caracteres) para identificarlas en nuestro programa.\n",
    "\n",
    "Creamos una variable usando una **sentencia de asignación**, con el operador `=` :"
   ]
  },
  {
   "cell_type": "markdown",
   "metadata": {},
   "source": [
    "```python\n",
    "nombre_var = valor_o_expresión\n",
    "```\n",
    "\n",
    "Donde el nombre de la variable (en este ejemplo `nombre_var`) está a la izquierda del operador`=`, y el valor literal (número entero o en coma flotante, una cadena de caracteres, un valor booleano, etc.) o expresión queda a la derecha del `=`."
   ]
  },
  {
   "cell_type": "markdown",
   "metadata": {},
   "source": [
    "Resumamos ahora los 4 tipos básicos de datos que hemos visto en Python, hasta ahora. Podemos inspeccionar el tip de datos de una variable, expresión o valor literal con la función Python `type`:\n",
    "\n",
    "```python\n",
    "type(mi_var)\n",
    "type(literal)\n",
    "```"
   ]
  },
  {
   "cell_type": "markdown",
   "metadata": {},
   "source": [
    "**Integers** (type --> *int*)"
   ]
  },
  {
   "cell_type": "code",
   "execution_count": 8,
   "metadata": {},
   "outputs": [
    {
     "name": "stdout",
     "output_type": "stream",
     "text": [
      "El tipo de my_integer es: \n",
      "<class 'int'>\n"
     ]
    }
   ],
   "source": [
    "# Integers (int)\n",
    "my_integer = 5\n",
    "print(\"El tipo de my_integer es: \")\n",
    "print(type(my_integer))"
   ]
  },
  {
   "cell_type": "markdown",
   "metadata": {},
   "source": [
    "**Números en coma flotante** (type --> *float*)"
   ]
  },
  {
   "cell_type": "code",
   "execution_count": 9,
   "metadata": {
    "scrolled": true
   },
   "outputs": [
    {
     "name": "stdout",
     "output_type": "stream",
     "text": [
      "El tipo de my_float es: \n",
      "<class 'float'>\n"
     ]
    }
   ],
   "source": [
    "my_float = 1.713\n",
    "print(\"El tipo de my_float es: \")\n",
    "print(type(my_float))"
   ]
  },
  {
   "cell_type": "markdown",
   "metadata": {},
   "source": [
    "**Strings**: secuencias de cero o más caracteres (type --> *str*)"
   ]
  },
  {
   "cell_type": "code",
   "execution_count": 6,
   "metadata": {},
   "outputs": [
    {
     "name": "stdout",
     "output_type": "stream",
     "text": [
      "El tipo de my_string es: \n",
      "<class 'str'>\n"
     ]
    }
   ],
   "source": [
    "my_string = \"Let's try this\"\n",
    "print(\"El tipo de my_string es: \")\n",
    "print(type(my_string))"
   ]
  },
  {
   "cell_type": "code",
   "execution_count": 5,
   "metadata": {},
   "outputs": [
    {
     "data": {
      "text/plain": [
       "'Frase de ejemplo\"'"
      ]
     },
     "execution_count": 5,
     "metadata": {},
     "output_type": "execute_result"
    }
   ],
   "source": [
    "my_string"
   ]
  },
  {
   "cell_type": "markdown",
   "metadata": {},
   "source": [
    "**Valores lógicos o booleanos**: sí (`True`) or no (`False`) (type --> *bool*)"
   ]
  },
  {
   "cell_type": "code",
   "execution_count": 7,
   "metadata": {},
   "outputs": [
    {
     "name": "stdout",
     "output_type": "stream",
     "text": [
      "El tipo de mi_boolean es: \n",
      "<class 'bool'>\n"
     ]
    }
   ],
   "source": [
    "my_boolean = True\n",
    "print(\"El tipo de mi_boolean es: \")\n",
    "print(type(my_boolean))"
   ]
  },
  {
   "cell_type": "markdown",
   "metadata": {},
   "source": [
    "Como las expresiones pueden ser evaluadas por el intérprete Python, también podemos **asignar el resultado de una expresión a una variable**: "
   ]
  },
  {
   "cell_type": "code",
   "execution_count": 12,
   "metadata": {},
   "outputs": [
    {
     "name": "stdout",
     "output_type": "stream",
     "text": [
      "12\n"
     ]
    }
   ],
   "source": [
    "result = (2 * 3) + 6\n",
    "print(result)"
   ]
  },
  {
   "cell_type": "markdown",
   "metadata": {},
   "source": [
    "El intérprete Python sigue unos **pasos para ejecutar las sentencias de asignación**:\n",
    "1. Evalúa la expresión a la derecha del operador `=` .\n",
    "2. El resultado de esta evaluación se asigna a la variable.\n",
    "\n",
    "Es importante entender el orden estricto de estos pasos. Considera la siguiente sentencia:"
   ]
  },
  {
   "cell_type": "code",
   "execution_count": 11,
   "metadata": {},
   "outputs": [
    {
     "name": "stdout",
     "output_type": "stream",
     "text": [
      "4\n",
      "20\n",
      "4.0\n"
     ]
    }
   ],
   "source": [
    "number = 7\n",
    "number = number - 3\n",
    "print(number)\n",
    "number *= 5\n",
    "print(number)\n",
    "number /= 5\n",
    "print(number)"
   ]
  },
  {
   "cell_type": "markdown",
   "metadata": {},
   "source": [
    "La segunda línea modifica el valor almacenado en la variable `number` con una nueva asignación. La diferencia es que, en este caso, la expresión a la derecha del valor usa el valor que se guardó en la variable en la primera línea de código.\n",
    "\n",
    "Por tanto, para ejecutar esta sentencia, el intérprete Python:\n",
    "\n",
    "1. Evalúa la expresión a la derecha del operador `=` $\\rightarrow$ 4 - 3 $\\rightarrow$ 7\n",
    "2. Después, asigna el resultado a la variable `number`."
   ]
  },
  {
   "cell_type": "markdown",
   "metadata": {},
   "source": [
    "### 2.1 Conversión de tipos"
   ]
  },
  {
   "cell_type": "markdown",
   "metadata": {},
   "source": [
    "Se puede **forzar el cambio de tipo** de cualquier **variable o valor literal** (con ciertas restricciones) a uno de estos cuatro tipos de datos básicos.\n",
    "\n",
    "```python\n",
    "int(variable)  # Conversión a int, descarta decimales (trunca)\n",
    "float(variable)  # Conversión a float\n",
    "str(variable)  # Conversión a str\n",
    "bool(variable)  # Conversión a bool (valor lógico)\n",
    "```\n",
    "\n",
    "Algunos ejemplos:"
   ]
  },
  {
   "cell_type": "markdown",
   "metadata": {},
   "source": [
    "**Conversión a `int`**"
   ]
  },
  {
   "cell_type": "code",
   "execution_count": 14,
   "metadata": {},
   "outputs": [
    {
     "data": {
      "text/plain": [
       "3"
      ]
     },
     "execution_count": 14,
     "metadata": {},
     "output_type": "execute_result"
    }
   ],
   "source": [
    "int(3.1415)"
   ]
  },
  {
   "cell_type": "code",
   "execution_count": 15,
   "metadata": {},
   "outputs": [
    {
     "data": {
      "text/plain": [
       "1"
      ]
     },
     "execution_count": 15,
     "metadata": {},
     "output_type": "execute_result"
    }
   ],
   "source": [
    "int(my_float)"
   ]
  },
  {
   "cell_type": "code",
   "execution_count": 16,
   "metadata": {},
   "outputs": [
    {
     "data": {
      "text/plain": [
       "-15"
      ]
     },
     "execution_count": 16,
     "metadata": {},
     "output_type": "execute_result"
    }
   ],
   "source": [
    "# La función int() puede manejar cadenas de caracteres que comiencen por + o -\n",
    "int('+23')\n",
    "int('-15')"
   ]
  },
  {
   "cell_type": "code",
   "execution_count": 17,
   "metadata": {},
   "outputs": [
    {
     "ename": "ValueError",
     "evalue": "invalid literal for int() with base 10: '98.5'",
     "output_type": "error",
     "traceback": [
      "\u001b[0;31m---------------------------------------------------------------------------\u001b[0m",
      "\u001b[0;31mValueError\u001b[0m                                Traceback (most recent call last)",
      "\u001b[0;32m<ipython-input-17-c8f1d7169fb3>\u001b[0m in \u001b[0;36m<module>\u001b[0;34m()\u001b[0m\n\u001b[1;32m      1\u001b[0m \u001b[0;31m# Pero no sabe interpretar números con . o decimales\u001b[0m\u001b[0;34m\u001b[0m\u001b[0;34m\u001b[0m\u001b[0m\n\u001b[0;32m----> 2\u001b[0;31m \u001b[0mint\u001b[0m\u001b[0;34m(\u001b[0m\u001b[0;34m'98.5'\u001b[0m\u001b[0;34m)\u001b[0m\u001b[0;34m\u001b[0m\u001b[0m\n\u001b[0m",
      "\u001b[0;31mValueError\u001b[0m: invalid literal for int() with base 10: '98.5'"
     ]
    }
   ],
   "source": [
    "# Pero no sabe interpretar números con . o decimales\n",
    "int('98.5')"
   ]
  },
  {
   "cell_type": "code",
   "execution_count": 18,
   "metadata": {},
   "outputs": [
    {
     "ename": "ValueError",
     "evalue": "invalid literal for int() with base 10: 'Una frase muy larga'",
     "output_type": "error",
     "traceback": [
      "\u001b[0;31m---------------------------------------------------------------------------\u001b[0m",
      "\u001b[0;31mValueError\u001b[0m                                Traceback (most recent call last)",
      "\u001b[0;32m<ipython-input-18-da68764c101c>\u001b[0m in \u001b[0;36m<module>\u001b[0;34m()\u001b[0m\n\u001b[1;32m      1\u001b[0m \u001b[0;31m# Ni tampoco strings estándar\u001b[0m\u001b[0;34m\u001b[0m\u001b[0;34m\u001b[0m\u001b[0m\n\u001b[0;32m----> 2\u001b[0;31m \u001b[0mint\u001b[0m\u001b[0;34m(\u001b[0m\u001b[0;34m\"Una frase muy larga\"\u001b[0m\u001b[0;34m)\u001b[0m\u001b[0;34m\u001b[0m\u001b[0m\n\u001b[0m",
      "\u001b[0;31mValueError\u001b[0m: invalid literal for int() with base 10: 'Una frase muy larga'"
     ]
    }
   ],
   "source": [
    "# Ni tampoco strings estándar\n",
    "int(\"Una frase muy larga\")"
   ]
  },
  {
   "cell_type": "code",
   "execution_count": 19,
   "metadata": {},
   "outputs": [
    {
     "data": {
      "text/plain": [
       "1"
      ]
     },
     "execution_count": 19,
     "metadata": {},
     "output_type": "execute_result"
    }
   ],
   "source": [
    "# True es 1 y False es 0\n",
    "int(True)"
   ]
  },
  {
   "cell_type": "code",
   "execution_count": 20,
   "metadata": {},
   "outputs": [
    {
     "data": {
      "text/plain": [
       "0"
      ]
     },
     "execution_count": 20,
     "metadata": {},
     "output_type": "execute_result"
    }
   ],
   "source": [
    "int(False)"
   ]
  },
  {
   "cell_type": "markdown",
   "metadata": {},
   "source": [
    "**Conversión a `float`**"
   ]
  },
  {
   "cell_type": "code",
   "execution_count": 21,
   "metadata": {},
   "outputs": [
    {
     "data": {
      "text/plain": [
       "3.0"
      ]
     },
     "execution_count": 21,
     "metadata": {},
     "output_type": "execute_result"
    }
   ],
   "source": [
    "float(3)"
   ]
  },
  {
   "cell_type": "code",
   "execution_count": 22,
   "metadata": {},
   "outputs": [
    {
     "data": {
      "text/plain": [
       "-40.0"
      ]
     },
     "execution_count": 22,
     "metadata": {},
     "output_type": "execute_result"
    }
   ],
   "source": [
    "float(-40)"
   ]
  },
  {
   "cell_type": "markdown",
   "metadata": {},
   "source": [
    "Trataremos las conversiones y otros detalles sobre tipos `str` y `bool` en otros notebooks, más adelante."
   ]
  },
  {
   "cell_type": "markdown",
   "metadata": {},
   "source": [
    "## 3. Palabras reservadas"
   ]
  },
  {
   "cell_type": "markdown",
   "metadata": {},
   "source": [
    "En Python, existen varias **palabras reservadas** que tienen un significado especial para el intérprete. Por tanto, no podemos usarlas para nombrar variables o funciones, ni para ningún otro propósito en nuestro código."
   ]
  },
  {
   "cell_type": "markdown",
   "metadata": {},
   "source": [
    "```python\n",
    " False   class    finally    is        return\n",
    " None    continue for        lambda    try\n",
    " True    def      from       nonlocal  while\n",
    " and     del      global     not       with\n",
    " as      elif     if         or        yield\n",
    " assert  else     import     pass      \n",
    " break   except   in         raise\n",
    "```"
   ]
  },
  {
   "cell_type": "markdown",
   "metadata": {},
   "source": [
    "## 4. Operadores aritméticos"
   ]
  },
  {
   "cell_type": "markdown",
   "metadata": {},
   "source": [
    "Como si fuese una potente calculadora, Python ofrece una lista de operadores aritméticos que podemos usar sobre variables y valores de tipo `int` o `float`. La documentación de Python en línea incluye una [tabla resumen de operadores](https://docs.python.org/3/library/stdtypes.html#numeric-types-int-float-complex) en el lenguaje.\n",
    "\n",
    "Algunos de los operadores más importantes para tipos de datos numéricos (`int`, `float`) son:"
   ]
  },
  {
   "cell_type": "code",
   "execution_count": 13,
   "metadata": {},
   "outputs": [
    {
     "data": {
      "text/plain": [
       "20"
      ]
     },
     "execution_count": 13,
     "metadata": {},
     "output_type": "execute_result"
    }
   ],
   "source": [
    "# Suma\n",
    "5 + 3 + 4 + 8"
   ]
  },
  {
   "cell_type": "code",
   "execution_count": 24,
   "metadata": {},
   "outputs": [
    {
     "data": {
      "text/plain": [
       "-15"
      ]
     },
     "execution_count": 24,
     "metadata": {},
     "output_type": "execute_result"
    }
   ],
   "source": [
    "# Resta\n",
    "5 - 20"
   ]
  },
  {
   "cell_type": "code",
   "execution_count": 25,
   "metadata": {},
   "outputs": [
    {
     "data": {
      "text/plain": [
       "300"
      ]
     },
     "execution_count": 25,
     "metadata": {},
     "output_type": "execute_result"
    }
   ],
   "source": [
    "# Multiplicación\n",
    "5 * 3 * 20"
   ]
  },
  {
   "cell_type": "markdown",
   "metadata": {},
   "source": [
    "Para dividir dos números en Python, debemos ser cuidadosos. La operación de **división estándar** en Python produce siempre un **resultado en coma flotante (`float`)**, incluso si solo usamos variables o valores de tipo `int` como operandos:"
   ]
  },
  {
   "cell_type": "markdown",
   "metadata": {},
   "source": [
    "##### Division (floating point, conserva decimales)\n",
    "345 / 123"
   ]
  },
  {
   "cell_type": "code",
   "execution_count": 27,
   "metadata": {},
   "outputs": [
    {
     "data": {
      "text/plain": [
       "float"
      ]
     },
     "execution_count": 27,
     "metadata": {},
     "output_type": "execute_result"
    }
   ],
   "source": [
    "type(345 / 123)"
   ]
  },
  {
   "cell_type": "markdown",
   "metadata": {},
   "source": [
    "En caso de que queramos un resulado de tipo `int`, debemos usar el operador `//`:"
   ]
  },
  {
   "cell_type": "code",
   "execution_count": 28,
   "metadata": {},
   "outputs": [
    {
     "data": {
      "text/plain": [
       "2"
      ]
     },
     "execution_count": 28,
     "metadata": {},
     "output_type": "execute_result"
    }
   ],
   "source": [
    "345 // 123"
   ]
  },
  {
   "cell_type": "markdown",
   "metadata": {},
   "source": [
    "No obstante, cuidado porque el operador de división `//` **trunca el resultado**, esto es, no se realiza ninguna operación de redondeo hacia arriba o hacia abajo antes de devolver el resultado (simplemente, descarta la parte decimal). En caso de que queramos obtener el comportamiento típico de redondeo, debemos usar la función **`round()`**:"
   ]
  },
  {
   "cell_type": "code",
   "execution_count": 10,
   "metadata": {},
   "outputs": [
    {
     "data": {
      "text/plain": [
       "2.805"
      ]
     },
     "execution_count": 10,
     "metadata": {},
     "output_type": "execute_result"
    }
   ],
   "source": [
    "# Redondea la respuesta a 3 digitos decimales\n",
    "round(345 / 123,3)"
   ]
  },
  {
   "cell_type": "markdown",
   "metadata": {},
   "source": [
    "La división por 0 no se permite:"
   ]
  },
  {
   "cell_type": "code",
   "execution_count": 30,
   "metadata": {},
   "outputs": [
    {
     "ename": "ZeroDivisionError",
     "evalue": "division by zero",
     "output_type": "error",
     "traceback": [
      "\u001b[0;31m---------------------------------------------------------------------------\u001b[0m",
      "\u001b[0;31mZeroDivisionError\u001b[0m                         Traceback (most recent call last)",
      "\u001b[0;32m<ipython-input-30-05a3a5f597d2>\u001b[0m in \u001b[0;36m<module>\u001b[0;34m()\u001b[0m\n\u001b[0;32m----> 1\u001b[0;31m \u001b[0;36m5\u001b[0m \u001b[0;34m/\u001b[0m \u001b[0;36m0\u001b[0m\u001b[0;34m\u001b[0m\u001b[0m\n\u001b[0m",
      "\u001b[0;31mZeroDivisionError\u001b[0m: division by zero"
     ]
    }
   ],
   "source": [
    "5 / 0"
   ]
  },
  {
   "cell_type": "markdown",
   "metadata": {},
   "source": [
    "Dos operadores adicionales son el **módulo** `%` (resto de la operación de división) y la **potenciación** `**`:"
   ]
  },
  {
   "cell_type": "code",
   "execution_count": 12,
   "metadata": {},
   "outputs": [
    {
     "data": {
      "text/plain": [
       "1"
      ]
     },
     "execution_count": 12,
     "metadata": {},
     "output_type": "execute_result"
    }
   ],
   "source": [
    "# Modulo\n",
    "7 % 3 "
   ]
  },
  {
   "cell_type": "code",
   "execution_count": 17,
   "metadata": {
    "scrolled": true
   },
   "outputs": [
    {
     "name": "stdout",
     "output_type": "stream",
     "text": [
      "0\n",
      "1\n",
      "2\n",
      "0\n",
      "1\n",
      "2\n",
      "0\n",
      "1\n"
     ]
    }
   ],
   "source": [
    "for numero in 0, 1, 2, 3, 4, 5, 6, 7:\n",
    "    print(numero % 3)"
   ]
  },
  {
   "cell_type": "code",
   "execution_count": 32,
   "metadata": {},
   "outputs": [
    {
     "data": {
      "text/plain": [
       "125"
      ]
     },
     "execution_count": 32,
     "metadata": {},
     "output_type": "execute_result"
    }
   ],
   "source": [
    "# Calcula el cubo de un numero\n",
    "5 ** 3"
   ]
  },
  {
   "cell_type": "code",
   "execution_count": 15,
   "metadata": {},
   "outputs": [
    {
     "data": {
      "text/plain": [
       "3.0"
      ]
     },
     "execution_count": 15,
     "metadata": {},
     "output_type": "execute_result"
    }
   ],
   "source": [
    "# Tambien funciona con raices\n",
    "27 ** (1/3)"
   ]
  },
  {
   "cell_type": "markdown",
   "metadata": {},
   "source": [
    "### 4.1 Precedencia de operadores aritméticos"
   ]
  },
  {
   "cell_type": "markdown",
   "metadata": {},
   "source": [
    "Como en matemáticas, el order en el que se evalúan los operadores por parte del intérprete Python sigue algunas normas estrictas. Por ejemplo, considera la diferencia entre las dos expresiones siguientes:"
   ]
  },
  {
   "cell_type": "code",
   "execution_count": 34,
   "metadata": {},
   "outputs": [
    {
     "data": {
      "text/plain": [
       "17"
      ]
     },
     "execution_count": 34,
     "metadata": {},
     "output_type": "execute_result"
    }
   ],
   "source": [
    "2 + 3 * 5"
   ]
  },
  {
   "cell_type": "code",
   "execution_count": 35,
   "metadata": {},
   "outputs": [
    {
     "data": {
      "text/plain": [
       "25"
      ]
     },
     "execution_count": 35,
     "metadata": {},
     "output_type": "execute_result"
    }
   ],
   "source": [
    "(2 + 3) * 5"
   ]
  },
  {
   "cell_type": "markdown",
   "metadata": {},
   "source": [
    "En la segunda expresión, usamos los paréntesis para decir explícitamente al intérprete Python el orden en que se deben evaluar las operaciones (primero la suma, luego la multiplicación). Siempre que existan dudas, es mejor que indiquemos explícitamente la precedencia de las operaciones usando paréntesis. **Aviso: no uses los corchetes (`[]`) para indicar precedencia de las operaciones, puesto que tienen un significado especial en Python**).\n",
    "\n",
    "De nuevo, en la documentación de Python podemos encontrar una [tabla con la precedencia de operadores aritméticos y lógicos](https://docs.python.org/3/reference/expressions.html#operator-precedence) (se explican a continuación algunos operadors lógicos)."
   ]
  },
  {
   "cell_type": "markdown",
   "metadata": {},
   "source": [
    "## 5. Operadores lógicos: comparaciones"
   ]
  },
  {
   "cell_type": "markdown",
   "metadata": {},
   "source": [
    "Además de los operadors aritméticos, otro tipo de operaciones básicas en programación son los **operadors lógicos**, incluyendo:\n",
    "* **Comparaciones**: *igualdad* con `==`, *mayor que* con `>`, *mayor o igual que* con `>=`, etc.\n",
    "* Tests de pertenencia (¿es un objeto miembro de una colección de objetos?) y tests de identidad.\n",
    "* Operadores booleanos: `and`, `or`, `not`.\n",
    "\n",
    "Las expresiones con estos operadores pueden evaluarse a un resultado booleano, bien sea `True` o `False`."
   ]
  },
  {
   "cell_type": "code",
   "execution_count": 28,
   "metadata": {},
   "outputs": [
    {
     "data": {
      "text/plain": [
       "False"
      ]
     },
     "execution_count": 28,
     "metadata": {},
     "output_type": "execute_result"
    }
   ],
   "source": [
    "3 == 5"
   ]
  },
  {
   "cell_type": "code",
   "execution_count": 37,
   "metadata": {
    "scrolled": true
   },
   "outputs": [
    {
     "data": {
      "text/plain": [
       "True"
      ]
     },
     "execution_count": 37,
     "metadata": {},
     "output_type": "execute_result"
    }
   ],
   "source": [
    "45 > 25"
   ]
  },
  {
   "cell_type": "code",
   "execution_count": 25,
   "metadata": {},
   "outputs": [
    {
     "data": {
      "text/plain": [
       "False"
      ]
     },
     "execution_count": 25,
     "metadata": {},
     "output_type": "execute_result"
    }
   ],
   "source": [
    "False and False"
   ]
  },
  {
   "cell_type": "markdown",
   "metadata": {},
   "source": [
    "Trataremos sobre cómo trabajar con valores booleanos y operadors lógicos en un notebook aparte, más adelante."
   ]
  },
  {
   "cell_type": "markdown",
   "metadata": {},
   "source": [
    "## Ejercicios"
   ]
  },
  {
   "cell_type": "markdown",
   "metadata": {},
   "source": [
    "### 1. Fórmulas geométricas básicas"
   ]
  },
  {
   "cell_type": "markdown",
   "metadata": {},
   "source": [
    "El siguiente código importa la biblioteca Python `math`, que incluye herramientas y variables para cálculo matemático. La variable `math.pi` almacena el valor del número $\\pi$ como un `float`:"
   ]
  },
  {
   "cell_type": "code",
   "execution_count": 29,
   "metadata": {},
   "outputs": [
    {
     "data": {
      "text/plain": [
       "float"
      ]
     },
     "execution_count": 29,
     "metadata": {},
     "output_type": "execute_result"
    }
   ],
   "source": [
    "import math\n",
    "type(math.pi)"
   ]
  },
  {
   "cell_type": "code",
   "execution_count": 40,
   "metadata": {
    "scrolled": true
   },
   "outputs": [
    {
     "name": "stdout",
     "output_type": "stream",
     "text": [
      "3.141592653589793\n"
     ]
    }
   ],
   "source": [
    "print(math.pi)"
   ]
  },
  {
   "cell_type": "markdown",
   "metadata": {
    "collapsed": true
   },
   "source": [
    "Si asumimos que solo puedes crear variables de tipo `int`, escribe código en Python para calcular:\n",
    "* a) La fórmula de la longitud de la circunferencia.\n",
    "* b) La fórmula del área de un círculo.\n",
    "\n",
    "En ambos casos, calcula las fórmulas solicitadas **de dos formas distintas**: primero usando el *radio*, luego usando el *diámetro*."
   ]
  },
  {
   "cell_type": "code",
   "execution_count": 31,
   "metadata": {},
   "outputs": [],
   "source": [
    "radio = 2\n",
    "diametro = 2 * radio\n",
    "\n",
    "area_1 = math.pi * radio ** 2\n",
    "area_2 = math.pi * diametro ** 2 / 4"
   ]
  },
  {
   "cell_type": "code",
   "execution_count": 32,
   "metadata": {},
   "outputs": [
    {
     "data": {
      "text/plain": [
       "True"
      ]
     },
     "execution_count": 32,
     "metadata": {},
     "output_type": "execute_result"
    }
   ],
   "source": [
    "area_1 == area_2"
   ]
  },
  {
   "cell_type": "code",
   "execution_count": 35,
   "metadata": {},
   "outputs": [],
   "source": [
    "radio = 2\n",
    "diametro = 2 * radio\n",
    "\n",
    "longitud_1 = 2 * math.pi * radio\n",
    "longitud_2 = math.pi * diametro\n"
   ]
  },
  {
   "cell_type": "code",
   "execution_count": 36,
   "metadata": {},
   "outputs": [
    {
     "data": {
      "text/plain": [
       "True"
      ]
     },
     "execution_count": 36,
     "metadata": {},
     "output_type": "execute_result"
    }
   ],
   "source": [
    "longitud_1 == longitud_2"
   ]
  },
  {
   "cell_type": "code",
   "execution_count": null,
   "metadata": {},
   "outputs": [],
   "source": []
  }
 ],
 "metadata": {
  "kernelspec": {
   "display_name": "Python 3",
   "language": "python",
   "name": "python3"
  },
  "language_info": {
   "codemirror_mode": {
    "name": "ipython",
    "version": 3
   },
   "file_extension": ".py",
   "mimetype": "text/x-python",
   "name": "python",
   "nbconvert_exporter": "python",
   "pygments_lexer": "ipython3",
   "version": "3.6.5"
  }
 },
 "nbformat": 4,
 "nbformat_minor": 2
}
