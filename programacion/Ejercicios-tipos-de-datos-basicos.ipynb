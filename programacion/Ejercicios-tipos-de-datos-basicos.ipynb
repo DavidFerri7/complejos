{
 "cells": [
  {
   "cell_type": "markdown",
   "metadata": {},
   "source": [
    "# Ejercicio con tipos de datos"
   ]
  },
  {
   "cell_type": "markdown",
   "metadata": {},
   "source": [
    "## Ejercicio 1"
   ]
  },
  {
   "cell_type": "markdown",
   "metadata": {
    "collapsed": true
   },
   "source": [
    "Considere el siguiente código de Python:"
   ]
  },
  {
   "cell_type": "code",
   "execution_count": 4,
   "metadata": {},
   "outputs": [],
   "source": [
    "first, second = 'Group A', 'Group B'\n",
    "third, fourth = second, first"
   ]
  },
  {
   "cell_type": "markdown",
   "metadata": {},
   "source": [
    "¿Qué salida producirá la siguiente sentencia?\n",
    "```python\n",
    "print(third, fourth)\n",
    "```\n",
    "Explique por qué cree que el intérprete de Python produce esa salida.\n",
    "\n",
    "**Nota**: El comando especial `%whos` (que funciona tanto en IPython como en Jupyter) puede proporcioinar información adicional de utilidad."
   ]
  },
  {
   "cell_type": "code",
   "execution_count": 5,
   "metadata": {},
   "outputs": [
    {
     "name": "stdout",
     "output_type": "stream",
     "text": [
      "Variable   Type    Data/Info\n",
      "----------------------------\n",
      "first      str     Group A\n",
      "fourth     str     Group A\n",
      "second     str     Group B\n",
      "third      str     Group B\n"
     ]
    }
   ],
   "source": [
    "%whos "
   ]
  },
  {
   "cell_type": "code",
   "execution_count": 7,
   "metadata": {},
   "outputs": [
    {
     "data": {
      "text/plain": [
       "('Group B', 'Group A')"
      ]
     },
     "execution_count": 7,
     "metadata": {},
     "output_type": "execute_result"
    }
   ],
   "source": [
    "# 'Group B', 'Group A'"
   ]
  },
  {
   "cell_type": "markdown",
   "metadata": {},
   "source": [
    "La variable 'third' es igual a 'second' y 'second' es igual a 'Group B'\n",
    "La variable 'fourth' es igual a 'first' y 'first' es igual a 'Group A'"
   ]
  },
  {
   "cell_type": "markdown",
   "metadata": {},
   "source": [
    "## Ejercicio 2"
   ]
  },
  {
   "cell_type": "markdown",
   "metadata": {
    "collapsed": true
   },
   "source": [
    "Considere la siguiente variable de tipo string:\n",
    "\n",
    "```python\n",
    "seq_dna = 'ACAA|GATG|CCAT|TGTC|CCCC|GGCC|TCCT|GCTG|CTGC|TGCT|CTCC|GGGG|CCAC|GGCC|ACCG|CTGC|CCTG|CCCC'\n",
    "```\n",
    "\n",
    "A continuación se muestra el funcionamiento de algunas de las funciones que se encuentran en la siguiente lista [métodos para strings](https://docs.python.org/3.6/library/stdtypes.html#string-methods):\n",
    "\n",
    "1. División de la cadena de caracteres original en **subcadenas de 4 caracteres consecutivos**, usando el delimitador de caracter correcto.\n",
    "2. División de la cadena de caracteres original en **tres partes**: subcadena de caractres *del primero al cuarto*, el caracter *delimitador* y *el resto de caracteres* que quedan hasta llegar a la mitad de la cadena de caracteres original."
   ]
  },
  {
   "cell_type": "code",
   "execution_count": null,
   "metadata": {
    "collapsed": true
   },
   "outputs": [],
   "source": [
    "# Inserta aquí el código con tu respuesta a la primera sección"
   ]
  },
  {
   "cell_type": "code",
   "execution_count": null,
   "metadata": {
    "collapsed": true
   },
   "outputs": [],
   "source": [
    "# Inserta aquí el código con tu respuesta a la segunda sección"
   ]
  },
  {
   "cell_type": "markdown",
   "metadata": {},
   "source": [
    "## Ejercicio 3"
   ]
  },
  {
   "cell_type": "markdown",
   "metadata": {
    "collapsed": true
   },
   "source": [
    "Escribir una expresión en Python que, dado un `str` o una variable (que puede incluir cualquier carácter válido Unicode), devuelva el número de caracteres que hay en el string sin contabilizar los espacios en blanco."
   ]
  },
  {
   "cell_type": "code",
   "execution_count": null,
   "metadata": {
    "collapsed": true
   },
   "outputs": [],
   "source": [
    "# Inserta aquí el código con tu respuesta"
   ]
  },
  {
   "cell_type": "markdown",
   "metadata": {},
   "source": [
    "## Ejercicio 4"
   ]
  },
  {
   "cell_type": "markdown",
   "metadata": {
    "collapsed": true
   },
   "source": [
    "La función llamada `str.maketrans(str1, str2)` crea una *tabla de traducción*, para sustituir cada caracter en el primer string (`str1`) con el caracter que se encuentra en la misma posición in el segundo string (`str2`). Podemos pasar esta tabla de traducción al a función `translate(table)` para llevar a cabo la sustitución de caracteres indicada en la tabla, en el contenido de cualquier string:\n",
    "\n",
    "```python\n",
    "trans_table = str.maketrans(str1, str2)\n",
    "my_string.translate(trans_table)\n",
    "```\n",
    "\n",
    "A modo de ejemplo, considere el siguiente string:\n",
    "\n",
    "```python\n",
    "seq_dna2 = 'ACAAGAGCCAGCCCCCGGCCCCGCGCGCGCCCCGGGGCCACGGCCACCGCGCCCGCC'\n",
    "```\n",
    "\n",
    "Usando las dos funciones descritas anteriormente, sustituir todos los caracteres alfabéticos que aparecen en `seq_dna` con su correspondiente orden numérico de aparición en el alfabeto (por ejemplo: $A \\rightarrow 1$, etc.).\n",
    "\n",
    "**Nota**: Puede consultarse la documentación de [`str.maketrans()`](https://docs.python.org/3.6/library/stdtypes.html#str.maketrans) y [`str.translate()`](https://docs.python.org/3.6/library/stdtypes.html#str.translate) si se precisa información adicional sobre estas funciones."
   ]
  },
  {
   "cell_type": "code",
   "execution_count": null,
   "metadata": {
    "collapsed": true
   },
   "outputs": [],
   "source": [
    "# Inserta aquí el código con tu respuesta"
   ]
  },
  {
   "cell_type": "markdown",
   "metadata": {},
   "source": [
    "## Ejercicio 5"
   ]
  },
  {
   "cell_type": "markdown",
   "metadata": {
    "collapsed": true
   },
   "source": [
    "Dada la siguiente expresión en Python:"
   ]
  },
  {
   "cell_type": "code",
   "execution_count": 12,
   "metadata": {},
   "outputs": [
    {
     "data": {
      "text/plain": [
       "8.333333333333334"
      ]
     },
     "execution_count": 12,
     "metadata": {},
     "output_type": "execute_result"
    }
   ],
   "source": [
    "len('acagt') * 2 / 3 + 5"
   ]
  },
  {
   "cell_type": "markdown",
   "metadata": {},
   "source": [
    "Modifíquela para obtener los siguientes resultados:\n",
    "\n",
    "1. Resultado numérico de tipo entero (sin decimales).\n",
    "2. Resultado numérico con precisión de 3 decimales."
   ]
  },
  {
   "cell_type": "code",
   "execution_count": 11,
   "metadata": {},
   "outputs": [
    {
     "data": {
      "text/plain": [
       "8"
      ]
     },
     "execution_count": 11,
     "metadata": {},
     "output_type": "execute_result"
    }
   ],
   "source": [
    "int(len('acagt') * 2 / 3 + 5)"
   ]
  },
  {
   "cell_type": "code",
   "execution_count": 14,
   "metadata": {},
   "outputs": [
    {
     "data": {
      "text/plain": [
       "8.333"
      ]
     },
     "execution_count": 14,
     "metadata": {},
     "output_type": "execute_result"
    }
   ],
   "source": [
    "round(len('acagt') * 2 / 3 + 5, 3)"
   ]
  },
  {
   "cell_type": "markdown",
   "metadata": {},
   "source": [
    "## Ejercicio 6"
   ]
  },
  {
   "cell_type": "markdown",
   "metadata": {
    "collapsed": true
   },
   "source": [
    "Inicializa una variable `x`a un valor entero positivo. Crea una expresión en Python para calcular el resultado de la siguiente operación matemática:"
   ]
  },
  {
   "cell_type": "markdown",
   "metadata": {},
   "source": [
    "$$3*cos(2 \\pi x)*[\\frac{2\\pi e^{x} + e^{2 \\pi x}}{1+2 e^{2 \\pi x}+2 \\pi x}]$$"
   ]
  },
  {
   "cell_type": "markdown",
   "metadata": {},
   "source": [
    "**Nota**: Información adicional en la documentación de la página de [`math` module](https://docs.python.org/3.6/library/math.html)."
   ]
  },
  {
   "cell_type": "code",
   "execution_count": 32,
   "metadata": {},
   "outputs": [],
   "source": [
    "import math"
   ]
  },
  {
   "cell_type": "code",
   "execution_count": 35,
   "metadata": {},
   "outputs": [],
   "source": [
    "x = 1"
   ]
  },
  {
   "cell_type": "code",
   "execution_count": 37,
   "metadata": {},
   "outputs": [
    {
     "data": {
      "text/plain": [
       "1.5373874431891241"
      ]
     },
     "execution_count": 37,
     "metadata": {},
     "output_type": "execute_result"
    }
   ],
   "source": [
    "3 * math.cos(2 * math.pi * x) * (((2 * math.pi * math.e ** x) + (math.e ** ( 2 * math.pi * x))) / (1 + 2 * math.e ** ( 2 * math.pi * x) + 2 * math.pi * x))"
   ]
  },
  {
   "cell_type": "markdown",
   "metadata": {},
   "source": [
    "## Ejercicio 7"
   ]
  },
  {
   "cell_type": "markdown",
   "metadata": {
    "collapsed": true
   },
   "source": [
    "Las funciones trigonométricas $sin(x)$ y $cos(x)$ están implementadas en Python en el módulo [`math` module](https://docs.python.org/3.6/library/math.html). Lea la documentación e implemente las siguientes operaciones:\n",
    "\n",
    "1. $sin(x)$ y $cos(x)$, donde $x = 0º$\n",
    "2. $sin(x)$ y $cos(x)$, donde $x = 90º$\n",
    "3. $sin(x)$ y $cos(x)$, donde $x = 180º$\n",
    "\n",
    "¿Nota algún resultado \"extraño\" en alguno de estos casos? ¿Puede encontrar alguna explicación?"
   ]
  },
  {
   "cell_type": "code",
   "execution_count": 38,
   "metadata": {},
   "outputs": [],
   "source": [
    "x = 0"
   ]
  },
  {
   "cell_type": "code",
   "execution_count": 41,
   "metadata": {},
   "outputs": [
    {
     "data": {
      "text/plain": [
       "(0.0, 1.0)"
      ]
     },
     "execution_count": 41,
     "metadata": {},
     "output_type": "execute_result"
    }
   ],
   "source": [
    "math.sin(0), math.cos(0)"
   ]
  },
  {
   "cell_type": "code",
   "execution_count": 42,
   "metadata": {},
   "outputs": [],
   "source": [
    "x = 90"
   ]
  },
  {
   "cell_type": "code",
   "execution_count": 43,
   "metadata": {},
   "outputs": [
    {
     "data": {
      "text/plain": [
       "(0.8939966636005579, -0.4480736161291701)"
      ]
     },
     "execution_count": 43,
     "metadata": {},
     "output_type": "execute_result"
    }
   ],
   "source": [
    "math.sin(90), math.cos(90)"
   ]
  },
  {
   "cell_type": "markdown",
   "metadata": {},
   "source": [
    "El ángulo va en radianes"
   ]
  },
  {
   "cell_type": "code",
   "execution_count": 44,
   "metadata": {},
   "outputs": [
    {
     "data": {
      "text/plain": [
       "(1.2246467991473532e-16, -1.0)"
      ]
     },
     "execution_count": 44,
     "metadata": {},
     "output_type": "execute_result"
    }
   ],
   "source": [
    "math.sin(math.pi), math.cos(math.pi)"
   ]
  },
  {
   "cell_type": "code",
   "execution_count": 45,
   "metadata": {},
   "outputs": [],
   "source": [
    "x = 2 * math.pi"
   ]
  },
  {
   "cell_type": "code",
   "execution_count": 46,
   "metadata": {},
   "outputs": [
    {
     "data": {
      "text/plain": [
       "(-2.4492935982947064e-16, 1.0)"
      ]
     },
     "execution_count": 46,
     "metadata": {},
     "output_type": "execute_result"
    }
   ],
   "source": [
    "math.sin(x), math.cos(x)"
   ]
  },
  {
   "cell_type": "markdown",
   "metadata": {},
   "source": [
    "## Ejercicio 8"
   ]
  },
  {
   "cell_type": "markdown",
   "metadata": {
    "collapsed": true
   },
   "source": [
    "Sean $a = 2$ y $b = 3$ los dos *catetos* de un *triángulo rectángulo*, donde:\n",
    "\n",
    "1. Escribe una expresión en Python para calcular la longitud de la *hipotenusa* del triángulo.\n",
    "2. Encontrar una función en el módulo `math` que calcule este valor, para así poder validar el resultado obtenido en el apartado anterior."
   ]
  },
  {
   "cell_type": "code",
   "execution_count": 48,
   "metadata": {},
   "outputs": [],
   "source": [
    "a = 2\n",
    "b = 3"
   ]
  },
  {
   "cell_type": "code",
   "execution_count": 52,
   "metadata": {},
   "outputs": [
    {
     "name": "stdout",
     "output_type": "stream",
     "text": [
      "3.605551275463989\n"
     ]
    }
   ],
   "source": [
    "c = (a ** 2 + b ** 2) ** (1/2)\n",
    "print(c)"
   ]
  },
  {
   "cell_type": "code",
   "execution_count": 50,
   "metadata": {},
   "outputs": [
    {
     "data": {
      "text/plain": [
       "3.605551275463989"
      ]
     },
     "execution_count": 50,
     "metadata": {},
     "output_type": "execute_result"
    }
   ],
   "source": [
    "math.hypot (2,3)"
   ]
  },
  {
   "cell_type": "markdown",
   "metadata": {},
   "source": [
    "## Ejercicio 9"
   ]
  },
  {
   "cell_type": "markdown",
   "metadata": {
    "collapsed": true
   },
   "source": [
    "Considere las siguientes variables Python:"
   ]
  },
  {
   "cell_type": "code",
   "execution_count": null,
   "metadata": {
    "collapsed": true
   },
   "outputs": [],
   "source": [
    "word1 = 'Monday'\n",
    "word2 = 'Monkey'\n",
    "word3 = 'Money'\n",
    "word4 = 'Monoid'"
   ]
  },
  {
   "cell_type": "markdown",
   "metadata": {},
   "source": [
    "¿Cuál es la salida de los siguientes comandos?\n",
    "```python\n",
    "word1 < word2\n",
    "word2 > word3\n",
    "word3 < word4\n",
    "```"
   ]
  },
  {
   "cell_type": "code",
   "execution_count": null,
   "metadata": {
    "collapsed": true
   },
   "outputs": [],
   "source": [
    "# Inserta aquí el código con tu respuesta"
   ]
  },
  {
   "cell_type": "markdown",
   "metadata": {},
   "source": [
    "¿Puedes pensar en alguna aplicaicón útil de este comportamiento de los operadores lógicos cuando se aplican a variables de tipo `str`?"
   ]
  },
  {
   "cell_type": "markdown",
   "metadata": {},
   "source": [
    "Inserta aquí tu explicación"
   ]
  },
  {
   "cell_type": "markdown",
   "metadata": {},
   "source": [
    "## Ejercicio 10"
   ]
  },
  {
   "cell_type": "markdown",
   "metadata": {
    "collapsed": true
   },
   "source": [
    "Dadas las siguientes variables Python:"
   ]
  },
  {
   "cell_type": "code",
   "execution_count": null,
   "metadata": {
    "collapsed": true
   },
   "outputs": [],
   "source": [
    "radius = \"3.04\"\n",
    "height = \"5.099\""
   ]
  },
  {
   "cell_type": "markdown",
   "metadata": {},
   "source": [
    "Crear un código en Python que muestre por pantalla **exáctamente** la siguiente salida, **usando como mucho dos llamadas a la función `print()`**:"
   ]
  },
  {
   "cell_type": "markdown",
   "metadata": {},
   "source": [
    "```txt\n",
    "Volumen del cilindro de w/ \"radio\" = [radius] & \"altura\" = [height] es: [volume_cylinder]\n",
    "Volumen del cono de w/ \"radio\" = [radius] & \"altura\" = [height] es: [volume_cone]\n",
    "```"
   ]
  },
  {
   "cell_type": "markdown",
   "metadata": {},
   "source": [
    "Donde `[radius]` y `[height]` se deben reemplazar por sus correspondientes **valores de tipo float**, y `[volume_cylinder]` y `[volume_cone]` se deben reemplazar por el resultado de una expresión que calcule el volumen de la figura correspondiente. Se pueden usar tantas sentencias Python como se consideren necesarias, pero **como máximo dos llamas a la función `print()` para mostrar ambas líneas** en la salida."
   ]
  },
  {
   "cell_type": "code",
   "execution_count": null,
   "metadata": {
    "collapsed": true
   },
   "outputs": [],
   "source": [
    "# Inserta aquí el código con tu respuesta"
   ]
  },
  {
   "cell_type": "markdown",
   "metadata": {},
   "source": [
    "¿Puede obtener esas dos mismas líneas de salida con **una única llamada a la función `print()`**?"
   ]
  },
  {
   "cell_type": "code",
   "execution_count": null,
   "metadata": {
    "collapsed": true
   },
   "outputs": [],
   "source": [
    "# Inserta aquí el código con tu respuesta"
   ]
  }
 ],
 "metadata": {
  "kernelspec": {
   "display_name": "Python 3",
   "language": "python",
   "name": "python3"
  },
  "language_info": {
   "codemirror_mode": {
    "name": "ipython",
    "version": 3
   },
   "file_extension": ".py",
   "mimetype": "text/x-python",
   "name": "python",
   "nbconvert_exporter": "python",
   "pygments_lexer": "ipython3",
   "version": "3.6.5"
  }
 },
 "nbformat": 4,
 "nbformat_minor": 2
}
