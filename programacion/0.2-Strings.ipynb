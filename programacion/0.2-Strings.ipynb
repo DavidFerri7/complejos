{
 "cells": [
  {
   "cell_type": "markdown",
   "metadata": {},
   "source": [
    "# Lab 0.2 Strings"
   ]
  },
  {
   "cell_type": "markdown",
   "metadata": {},
   "source": [
    "## 1. String literales"
   ]
  },
  {
   "cell_type": "markdown",
   "metadata": {},
   "source": [
    "En programación, es muy frecuente trabajar con secuencias de caracteres, llamadas **strings**. In Python 3, se representan los strings por defecto usando el [estándar Unicode](https://en.wikipedia.org/wiki/Unicode), en particular [la codificación UTF-8](https://docs.python.org/3/howto/unicode.html#the-string-type). En la práctica, esto permite que podamos escribir caracteres de cualquier idioma o alfabeto del mundo."
   ]
  },
  {
   "cell_type": "code",
   "execution_count": 1,
   "metadata": {
    "collapsed": true
   },
   "outputs": [],
   "source": [
    "spanish = '¿Cómo estás?'\n",
    "russian = 'Как поживаешь?'\n",
    "hebrew = 'מה שלומך?'\n",
    "farsi = 'حالتون چطوره؟'"
   ]
  },
  {
   "cell_type": "code",
   "execution_count": 10,
   "metadata": {},
   "outputs": [
    {
     "name": "stdout",
     "output_type": "stream",
     "text": [
      "♠,♥,♦,♣\n"
     ]
    }
   ],
   "source": [
    "print('♠,♥,♦,♣')"
   ]
  },
  {
   "cell_type": "markdown",
   "metadata": {},
   "source": [
    "En Python, los **valores literales de tipo string** se pueden representar de tres formas:"
   ]
  },
  {
   "cell_type": "code",
   "execution_count": 7,
   "metadata": {
    "scrolled": true
   },
   "outputs": [
    {
     "name": "stdout",
     "output_type": "stream",
     "text": [
      "This is an \"example\" of string between single quotes\n",
      "This is 'another example' with a string between double quotes\n",
      "Triple quotes '\"'\" are very long\n",
      "Simple Sam was a simple man.\n",
      "He lived each day by a simple plan.\n",
      "Enjoy your life and live while you can.\n",
      "Make each day count and take a stand.\n",
      "\n"
     ]
    }
   ],
   "source": [
    "# Entre comillas simples. Se pueden incluir comillas dobles dentro del string\n",
    "single_quotes = 'This is an \"example\" of string between single quotes'\n",
    "\n",
    "# Entre comillas dobles. Se pueden incluir comillas simples dentro del string\n",
    "double_quotes = \"This is 'another example' with a string between double quotes\"\n",
    "\n",
    "# Entre triple comilla simple o doble. Se puede incluir cualquier tipo de comilla dentro del string.\n",
    "triple_quotes = \"\"\"Triple quotes '\"'\" are very long\"\"\"\n",
    "\n",
    "# En este último caso, podemos escribir un string en múltiples líneas (contiene saltos de línea)\n",
    "# Fuente: https://www.familyfriendpoems.com/poems/other/short/\n",
    "line_breaks = \"\"\"Simple Sam was a simple man.\n",
    "He lived each day by a simple plan.\n",
    "Enjoy your life and live while you can.\n",
    "Make each day count and take a stand.\n",
    "\"\"\"\n",
    "print(single_quotes)\n",
    "print(double_quotes)\n",
    "print(triple_quotes)\n",
    "print(line_breaks)"
   ]
  },
  {
   "cell_type": "markdown",
   "metadata": {},
   "source": [
    "Por tanto, podemos elegir dependiendo del tipo de contenido que queremos incluir dentro del string.\n",
    "\n",
    "Finalmente, otro detalle importante sobre los strings es que son **inmutables**, es decir, que **una vez creados no se pueden modificar**. Por tant, para alterar el contenido de un string se debe crear un nuevo, sustituyendo los caracteres deseados por otros, añadiendo nuevos caracteres como prefijo o sufijo, juntando dos o más strings, etc."
   ]
  },
  {
   "cell_type": "code",
   "execution_count": 6,
   "metadata": {},
   "outputs": [
    {
     "name": "stdout",
     "output_type": "stream",
     "text": [
      "A\n"
     ]
    }
   ],
   "source": [
    "adios = \"Adios\"\n",
    "print(adios[0])\n",
    " "
   ]
  },
  {
   "cell_type": "code",
   "execution_count": 8,
   "metadata": {},
   "outputs": [
    {
     "name": "stdout",
     "output_type": "stream",
     "text": [
      "3.0\n",
      "True\n"
     ]
    }
   ],
   "source": [
    "adios = \"Adios\"\n",
    "adios = 3.0\n",
    "print(adios)\n",
    "adios = True\n",
    "print(adios)"
   ]
  },
  {
   "cell_type": "code",
   "execution_count": 8,
   "metadata": {},
   "outputs": [
    {
     "ename": "TypeError",
     "evalue": "'str' object does not support item assignment",
     "output_type": "error",
     "traceback": [
      "\u001b[0;31m---------------------------------------------------------------------------\u001b[0m",
      "\u001b[0;31mTypeError\u001b[0m                                 Traceback (most recent call last)",
      "\u001b[0;32m<ipython-input-8-ecb85b42bd11>\u001b[0m in \u001b[0;36m<module>\u001b[0;34m()\u001b[0m\n\u001b[0;32m----> 1\u001b[0;31m \u001b[0msingle_quotes\u001b[0m\u001b[0;34m[\u001b[0m\u001b[0;36m3\u001b[0m\u001b[0;34m]\u001b[0m \u001b[0;34m=\u001b[0m \u001b[0;34m'c'\u001b[0m  \u001b[0;31m# Intentamos cambiar la cuarta letra del string\u001b[0m\u001b[0;34m\u001b[0m\u001b[0m\n\u001b[0m",
      "\u001b[0;31mTypeError\u001b[0m: 'str' object does not support item assignment"
     ]
    }
   ],
   "source": [
    "single_quotes[3] = 'c'  # Intentamos cambiar la cuarta letra del string"
   ]
  },
  {
   "cell_type": "markdown",
   "metadata": {},
   "source": [
    "### 1.1 Imprimir strings"
   ]
  },
  {
   "cell_type": "markdown",
   "metadata": {},
   "source": [
    "Muchos objetos en Python, incluyendo números (`int`, `float`) y valores lógicos (`True` o `False`) se pueden transformar automáticamente en strings cuando los pasamos a la función `print()`:"
   ]
  },
  {
   "cell_type": "code",
   "execution_count": 37,
   "metadata": {
    "scrolled": true
   },
   "outputs": [
    {
     "name": "stdout",
     "output_type": "stream",
     "text": [
      "Area of triangle: 99.0\n",
      "The status of condition is: True\n"
     ]
    }
   ],
   "source": [
    "area_triangle = 99.0\n",
    "print('Area of triangle:', area_triangle)\n",
    "\n",
    "condition = True\n",
    "print('The status of condition is:', condition)"
   ]
  },
  {
   "cell_type": "markdown",
   "metadata": {},
   "source": [
    "Ten en cuenta que en los ejemplos anteriores estamos **separando los elementos que le pasamos a `print()` con comas**, en lugar de usar el operador `+` (que explicamos más adelante). Cuando usamos comas, `print()` traduce cada elemento que pasamos entre paréntesis a una representación de tipo `str`, y junta todos los strings individuales en un solo, **añadiendo además espacios en blanco entre los elementos**, para mostrar el mensaje.\n",
    "\n",
    "Por contra, tal y como hemos visto ya en el notebook 0.1, el operador `+` debe usarse con elementos del mismo tipo. Si no, el intérprete Python devuelve un error:"
   ]
  },
  {
   "cell_type": "code",
   "execution_count": 6,
   "metadata": {},
   "outputs": [
    {
     "ename": "TypeError",
     "evalue": "must be str, not bool",
     "output_type": "error",
     "traceback": [
      "\u001b[0;31m---------------------------------------------------------------------------\u001b[0m",
      "\u001b[0;31mTypeError\u001b[0m                                 Traceback (most recent call last)",
      "\u001b[0;32m<ipython-input-6-d25ddadd8fca>\u001b[0m in \u001b[0;36m<module>\u001b[0;34m()\u001b[0m\n\u001b[0;32m----> 1\u001b[0;31m \u001b[0mprint\u001b[0m\u001b[0;34m(\u001b[0m\u001b[0;34m'The status of condition is: '\u001b[0m \u001b[0;34m+\u001b[0m \u001b[0mcondition\u001b[0m\u001b[0;34m)\u001b[0m\u001b[0;34m\u001b[0m\u001b[0m\n\u001b[0m",
      "\u001b[0;31mTypeError\u001b[0m: must be str, not bool"
     ]
    }
   ],
   "source": [
    "print('The status of condition is: ' + condition)"
   ]
  },
  {
   "cell_type": "code",
   "execution_count": 7,
   "metadata": {},
   "outputs": [
    {
     "name": "stdout",
     "output_type": "stream",
     "text": [
      "The status of condition is: True\n"
     ]
    }
   ],
   "source": [
    "print('The status of condition is: ' + str(condition))"
   ]
  },
  {
   "cell_type": "markdown",
   "metadata": {},
   "source": [
    "### 1.2 Caracteres especiales"
   ]
  },
  {
   "cell_type": "markdown",
   "metadata": {},
   "source": [
    "Algunos caracteres especiales no se pueden insertar sin más en un string, excepto el espacio en blanco y los signos de puntuación. Por ejemplo, los caracteres especiales incluyen el carácter de *nueva línea* or el tabulador. En estos casos, usamos el carácter `\\` (llamado el **carácter de escape**) para representar estos caracteres especiales. Otro uso del carácter de escape es para incluir comillas simples o dobles dentro de un string delimitado por el mismo tipo de comillas:\n",
    "\n",
    "* El carácter nueva línea es `\\n`.\n",
    "* El tabulador es `\\t`.\n",
    "* Las comillas simples se pueden escapar con `\\'` (es decir, se interpretará como el carácter comilla simple, no como el delimitador de un string).\n",
    "* Las comillas dobles se pueden escapar con `\\\"` (para representar el carácter doble comilla, y no el delimitador de un string).\n",
    "* También funciona con comillas triples: `\\'''` o `\\\"\"\"`.\n",
    "* Puedes escapar la barra invertida con la propia barra invertida: `\\\\`."
   ]
  },
  {
   "cell_type": "code",
   "execution_count": 28,
   "metadata": {},
   "outputs": [
    {
     "name": "stdout",
     "output_type": "stream",
     "text": [
      "This is a test\n",
      " This will be in a new line\n",
      "This will be displayed in the third line.\n"
     ]
    }
   ],
   "source": [
    "# String con caracteres de nueva línea\n",
    "# Fíjate que los espacios en blanco se mantienen en la segunda y tercera línea\n",
    "# No se necesita escapar los espacios en blanco\n",
    "print(\"This is a test\\n This will be in a new line\\nThis will be displayed in the third line.\")"
   ]
  },
  {
   "cell_type": "code",
   "execution_count": 31,
   "metadata": {},
   "outputs": [
    {
     "name": "stdout",
     "output_type": "stream",
     "text": [
      "First item\tSecond item separated with tab\t\tThird one, two tabs away from the previous one.\n"
     ]
    }
   ],
   "source": [
    "# String con tabuladores\n",
    "print(\"First item\\tSecond item separated with tab\\t\\tThird one, two tabs away from the previous one.\")"
   ]
  },
  {
   "cell_type": "code",
   "execution_count": 8,
   "metadata": {},
   "outputs": [
    {
     "name": "stdout",
     "output_type": "stream",
     "text": [
      "This is said to 'escape single quotes'\n",
      "And this to \"escape double quotes\"\n",
      "Escape triple quotes with ''' or \"\"\"\n",
      "This is a backslash displayed: \\\n"
     ]
    }
   ],
   "source": [
    "# Escapar comillas\n",
    "print('This is said to \\'escape single quotes\\'')\n",
    "print(\"And this to \\\"escape double quotes\\\"\")\n",
    "print('''Escape triple quotes with \\''' or \\\"\"\"''')\n",
    "\n",
    "# Escapar la barra invertida\n",
    "print('This is a backslash displayed: \\\\')"
   ]
  },
  {
   "cell_type": "code",
   "execution_count": 35,
   "metadata": {},
   "outputs": [
    {
     "name": "stdout",
     "output_type": "stream",
     "text": [
      "True\n",
      "5\n",
      "3.14\n",
      "hola\n"
     ]
    }
   ],
   "source": [
    "logico = True\n",
    "numero1 = 5\n",
    "numero2 = 3.14\n",
    "mi_string = 'hola'\n",
    "print(logico, numero1, numero2, mi_string, sep='\\n')"
   ]
  },
  {
   "cell_type": "markdown",
   "metadata": {},
   "source": [
    "Además de esto, el string vacío (una secuencia de cero caracteres) también es válida, delimitada por cualquiera de las opciones disponibles:"
   ]
  },
  {
   "cell_type": "code",
   "execution_count": 15,
   "metadata": {
    "collapsed": true
   },
   "outputs": [],
   "source": [
    "empty_1 = ''\n",
    "empty_2 = \"\"\n",
    "empty_3 = ''''''\n",
    "empty_4 = \"\"\"\"\"\""
   ]
  },
  {
   "cell_type": "markdown",
   "metadata": {},
   "source": [
    "Es interesante conocer el **valor lógico** asignado al string vacío, comparado con cualquier otro string con al menos un carácter (incluso si es el espacio en blanco):"
   ]
  },
  {
   "cell_type": "code",
   "execution_count": 9,
   "metadata": {},
   "outputs": [
    {
     "data": {
      "text/plain": [
       "False"
      ]
     },
     "execution_count": 9,
     "metadata": {},
     "output_type": "execute_result"
    }
   ],
   "source": [
    "bool('')  # Devuelve False"
   ]
  },
  {
   "cell_type": "code",
   "execution_count": 11,
   "metadata": {},
   "outputs": [
    {
     "data": {
      "text/plain": [
       "True"
      ]
     },
     "execution_count": 11,
     "metadata": {},
     "output_type": "execute_result"
    }
   ],
   "source": [
    "bool(' ')  # Devuelve True, incluso un espacio en blanco"
   ]
  },
  {
   "cell_type": "markdown",
   "metadata": {},
   "source": [
    "### 1.3 Constantes string"
   ]
  },
  {
   "cell_type": "markdown",
   "metadata": {},
   "source": [
    "El **módulo string** proporciona una colección de constantes y funciones para facilitar tareas comunes con string. Podemos usarlas en nuestro programa con la sentencia de importación:\n",
    "\n",
    "```python\n",
    "import string\n",
    "```\n",
    "\n",
    "La documentación Python incluye una lista muy útil de [constantes string](https://docs.python.org/2/library/string.html#string-constants) que podemos aprovechar para ahorrar tiempo en nuestra creació de código:"
   ]
  },
  {
   "cell_type": "code",
   "execution_count": 13,
   "metadata": {},
   "outputs": [
    {
     "name": "stdout",
     "output_type": "stream",
     "text": [
      "Letra minúsculas y mayúsculas en alfabeto latino occidental:  abcdefghijklmnopqrstuvwxyzABCDEFGHIJKLMNOPQRSTUVWXYZ\n",
      "Lista de signos de puntuación:  !\"#$%&'()*+,-./:;<=>?@[\\]^_`{|}~\n"
     ]
    }
   ],
   "source": [
    "import string\n",
    "\n",
    "\n",
    "print(\"Letra minúsculas y mayúsculas en alfabeto latino occidental: \", string.ascii_letters)\n",
    "print(\"Lista de signos de puntuación: \", string.punctuation)"
   ]
  },
  {
   "cell_type": "markdown",
   "metadata": {},
   "source": [
    "## 2. Operadores string"
   ]
  },
  {
   "cell_type": "markdown",
   "metadata": {},
   "source": [
    "Una característica muy potente del lenguaje Python es que el significado de los operadores aritméticos de suma `+` y multiplicación `*` cambia cuando se aplican a variables o valores de tipo string.\n",
    "\n",
    "Cuando se aplica a operandos de tipo string, el operador `+` se convierte en **concatenación**, es decir, crea un nuevo string añadiendo el segundo operando a continuación del primero. Recuerda que este tipo de operaciones siempre **crea un nuevo string**, puesto que los valores string no se pueden modificar (son *inmutables*):"
   ]
  },
  {
   "cell_type": "code",
   "execution_count": 39,
   "metadata": {},
   "outputs": [
    {
     "data": {
      "text/plain": [
       "'First stringSecond stringThird string'"
      ]
     },
     "execution_count": 39,
     "metadata": {},
     "output_type": "execute_result"
    }
   ],
   "source": [
    "# Fíjate en que los strings se unenn sin espacios en blanco entre ellos\n",
    "'First string' + 'Second string' + 'Third string'"
   ]
  },
  {
   "cell_type": "markdown",
   "metadata": {},
   "source": [
    "El segundo operador ocn un significado especial cuando se aplica a strings es `*`, que se convierte en **replicación**. La sintaxis es:\n",
    "\n",
    "```python\n",
    "string_value_or_var * int_num_times_to_replicate\n",
    "```"
   ]
  },
  {
   "cell_type": "code",
   "execution_count": 40,
   "metadata": {
    "scrolled": true
   },
   "outputs": [
    {
     "name": "stdout",
     "output_type": "stream",
     "text": [
      "This string will be replicated twice\n"
     ]
    },
    {
     "data": {
      "text/plain": [
       "'This string will be replicated twiceThis string will be replicated twiceThis string will be replicated twiceADIOS'"
      ]
     },
     "execution_count": 40,
     "metadata": {},
     "output_type": "execute_result"
    }
   ],
   "source": [
    "# De nuevo, no hay espacios en blanco entre las réplicas\n",
    "cadena = 'This string will be replicated twice'\n",
    "cadena_2 = cadena * 2\n",
    "print(cadena)\n",
    "cadena_3 = cadena * 3 + 'ADIOS'\n",
    "cadena_3"
   ]
  },
  {
   "cell_type": "markdown",
   "metadata": {},
   "source": [
    "## 3. Indexación de strings"
   ]
  },
  {
   "cell_type": "markdown",
   "metadata": {},
   "source": [
    "En la primera sección de este notebook, hemos dicho que los valores o variables string representan una *secuencia* de caracteres, es decir, una colección de letras que están ordenadas en posiciones consecutivas. También hemos dicho que los string son *inmutable*, y no se pueden alterar una vez creados.\n",
    "\n",
    "Sin embargo, los objetos de tipo secuencia en Python guardan información sobre la **posición de cada elemento** en la secuencia. Como resultado, podemos usar esta informaión para recuperar elementos individuales a partir de la secuencia. Esto lo conseguimos mediante la **indexación de secuencias**. Se usa una sintaxis especial para decirle al intérprete que queremos recuperar uno o varios elementos de la secuencia, especificando su posición dentro de la misma.\n",
    "\n",
    "La sintaxis para indexación de secuencias (colecciones ordenadas de elementos) en Python es:\n",
    "\n",
    "```python\n",
    "nombre_sec[indice]  # Donde indice debe ser un entero\n",
    "```"
   ]
  },
  {
   "cell_type": "markdown",
   "metadata": {},
   "source": [
    "La convención que se sigue en Python (y muchos otros lenguajes de programación, *pero no en todos*) es identificar los elementos de la secuencia de esta forma:\n",
    "\n",
    "* **El primer elemento** en la secuencia tiene **índice 0**.\n",
    "* **El segundo elemento** en la secuencia tiene **índice 1**.\n",
    "* Etc...\n",
    "\n",
    "En otras palabras, en lugar de indicar el identificador *ordinal* (primero $\\rightarrow$ 1, segundo $\\rightarrow$ 2, etc.) debemos usar un [**offset**](https://en.wikipedia.org/wiki/Offset_(computer_science)), que es la distancia (en número de posiciones) entre el comienzo de la secuencia y el elemento deseado:"
   ]
  },
  {
   "cell_type": "code",
   "execution_count": 42,
   "metadata": {},
   "outputs": [
    {
     "name": "stdout",
     "output_type": "stream",
     "text": [
      "a\n",
      "b\n"
     ]
    }
   ],
   "source": [
    "my_string = 'abcdefg'\n",
    "print(my_string[0])  # Primer elemento\n",
    "print(my_string[1])  # Segundo elemento\n"
   ]
  },
  {
   "cell_type": "markdown",
   "metadata": {},
   "source": [
    "En resumen, un string que contiene $n$ caracteres tendrá índices válidos dentro del rango $\\{0, \\dots, n-1\\}$. Si intentamos recuperar un elemento usando un índice que caiga fuera de este rango, el intérprete devuelve un error (con un mensaje muy elocuente explicando los motivos):"
   ]
  },
  {
   "cell_type": "code",
   "execution_count": 6,
   "metadata": {},
   "outputs": [
    {
     "ename": "IndexError",
     "evalue": "string index out of range",
     "output_type": "error",
     "traceback": [
      "\u001b[0;31m---------------------------------------------------------------------------\u001b[0m",
      "\u001b[0;31mIndexError\u001b[0m                                Traceback (most recent call last)",
      "\u001b[0;32m<ipython-input-6-4ba480f6b8db>\u001b[0m in \u001b[0;36m<module>\u001b[0;34m()\u001b[0m\n\u001b[0;32m----> 1\u001b[0;31m \u001b[0mmy_string\u001b[0m\u001b[0;34m[\u001b[0m\u001b[0;36m20\u001b[0m\u001b[0;34m]\u001b[0m\u001b[0;34m\u001b[0m\u001b[0m\n\u001b[0m",
      "\u001b[0;31mIndexError\u001b[0m: string index out of range"
     ]
    }
   ],
   "source": [
    "my_string[20]"
   ]
  },
  {
   "cell_type": "markdown",
   "metadata": {},
   "source": [
    "Por lot tanto, para evitar problemas podemos calcular primero la longitud de la secuencia, usando la función integrada **len()**:"
   ]
  },
  {
   "cell_type": "code",
   "execution_count": 46,
   "metadata": {},
   "outputs": [
    {
     "data": {
      "text/plain": [
       "'g'"
      ]
     },
     "execution_count": 46,
     "metadata": {},
     "output_type": "execute_result"
    }
   ],
   "source": [
    "my_string[len(my_string) - 1]  # Evitamos caer fuera de los límites de índices del string"
   ]
  },
  {
   "cell_type": "markdown",
   "metadata": {},
   "source": [
    "Sin embargo, esta operación es tan frecuente en Ptyhon que existe una **sintaxis especial para recuperar el último elemento** de cualquier secuencia:"
   ]
  },
  {
   "cell_type": "code",
   "execution_count": 44,
   "metadata": {},
   "outputs": [
    {
     "data": {
      "text/plain": [
       "'g'"
      ]
     },
     "execution_count": 44,
     "metadata": {},
     "output_type": "execute_result"
    }
   ],
   "source": [
    "my_string[-1]  # Sintaxis especial para indexar desde el final de la secuencia"
   ]
  },
  {
   "cell_type": "markdown",
   "metadata": {},
   "source": [
    "De hecho, se puede generalizar esta notación para indexar cualquier elemento de una secuencia, pero indicando  **su posición desde el final de la secuencia**, en lugar del offset desde el comienzo (**Cuidado: con la notación de índice negativo, tenemos que usar la posición del elemento, no el *offset* desde el final de la secuencia**):"
   ]
  },
  {
   "cell_type": "code",
   "execution_count": 9,
   "metadata": {},
   "outputs": [
    {
     "data": {
      "text/plain": [
       "'e'"
      ]
     },
     "execution_count": 9,
     "metadata": {},
     "output_type": "execute_result"
    }
   ],
   "source": [
    "my_string[-3]"
   ]
  },
  {
   "cell_type": "code",
   "execution_count": 10,
   "metadata": {},
   "outputs": [
    {
     "ename": "IndexError",
     "evalue": "string index out of range",
     "output_type": "error",
     "traceback": [
      "\u001b[0;31m---------------------------------------------------------------------------\u001b[0m",
      "\u001b[0;31mIndexError\u001b[0m                                Traceback (most recent call last)",
      "\u001b[0;32m<ipython-input-10-75c7689ce413>\u001b[0m in \u001b[0;36m<module>\u001b[0;34m()\u001b[0m\n\u001b[0;32m----> 1\u001b[0;31m \u001b[0mmy_string\u001b[0m\u001b[0;34m[\u001b[0m\u001b[0;34m-\u001b[0m\u001b[0;36m20\u001b[0m\u001b[0;34m]\u001b[0m  \u001b[0;31m# Cuidado con caer fuera de los límites de índices del string\u001b[0m\u001b[0;34m\u001b[0m\u001b[0m\n\u001b[0m",
      "\u001b[0;31mIndexError\u001b[0m: string index out of range"
     ]
    }
   ],
   "source": [
    "my_string[-20]  # Cuidado con caer fuera de los límites de índices del string"
   ]
  },
  {
   "cell_type": "markdown",
   "metadata": {},
   "source": [
    "### *3.1 Slicing*"
   ]
  },
  {
   "cell_type": "markdown",
   "metadata": {},
   "source": [
    "También podemos recuperar un **subconjunto de elementos** de una secuencia, en lugar de componentes individuales. La notación que usamos es:\n",
    "\n",
    "```python\n",
    "nombre_sec[primero:ultimo]  # Donde primero y ultimo son ambos enteros\n",
    "```"
   ]
  },
  {
   "cell_type": "markdown",
   "metadata": {},
   "source": [
    "En Python, esto se denomina **slicing de secuencias**. Una advertencia sobre la forma en la que Python calcula la longitud de la *slice* recuperada: **la slice comenzará en el offset `primero` y acaba un elemento antes del offset `ultimo`**. Veamos un ejemplo:"
   ]
  },
  {
   "cell_type": "code",
   "execution_count": 51,
   "metadata": {
    "scrolled": true
   },
   "outputs": [
    {
     "data": {
      "text/plain": [
       "'bcd'"
      ]
     },
     "execution_count": 51,
     "metadata": {},
     "output_type": "execute_result"
    }
   ],
   "source": [
    "my_string[1:4]  # Incluye elementos con offset 1, 2 y 3"
   ]
  },
  {
   "cell_type": "code",
   "execution_count": 53,
   "metadata": {},
   "outputs": [
    {
     "data": {
      "text/plain": [
       "'bcdef'"
      ]
     },
     "execution_count": 53,
     "metadata": {},
     "output_type": "execute_result"
    }
   ],
   "source": [
    "my_string[1:-1]  # Elements elementos con offset 1, 2... hasta el penúltimo elemento"
   ]
  },
  {
   "cell_type": "markdown",
   "metadata": {},
   "source": [
    "La slice vacía también es válida, y devuelve una copia de todos los elementos de la secuencia original:"
   ]
  },
  {
   "cell_type": "code",
   "execution_count": 13,
   "metadata": {},
   "outputs": [
    {
     "data": {
      "text/plain": [
       "'abcdefg'"
      ]
     },
     "execution_count": 13,
     "metadata": {},
     "output_type": "execute_result"
    }
   ],
   "source": [
    "my_string[:]"
   ]
  },
  {
   "cell_type": "code",
   "execution_count": 2,
   "metadata": {},
   "outputs": [
    {
     "data": {
      "text/plain": [
       "'Hola k tal'"
      ]
     },
     "execution_count": 2,
     "metadata": {},
     "output_type": "execute_result"
    }
   ],
   "source": [
    "saludo = \"Hola que tal\"\n",
    "nuevo_saludo = saludo[0:5] + \"k\" + saludo[8:]\n",
    "nuevo_saludo"
   ]
  },
  {
   "cell_type": "markdown",
   "metadata": {},
   "source": [
    "## 4. Métodos para strings"
   ]
  },
  {
   "cell_type": "markdown",
   "metadata": {
    "collapsed": true
   },
   "source": [
    "Podemos llamar en cualquier string a los [métodos para tipo string](https://docs.python.org/3/library/stdtypes.html#string-methods) que tiene disponibles cualquier literal o variable de este tipo. La forma en que llamamos a estos métodos es mediante la *sintaxis punto* sobre el propio literal o el nombre de la variable:\n",
    "\n",
    "```python\n",
    "str_valor.nombre_metodo\n",
    "str_var.nombre_metodo\n",
    "```"
   ]
  },
  {
   "cell_type": "markdown",
   "metadata": {},
   "source": [
    "Veamos algunos ejemplos:"
   ]
  },
  {
   "cell_type": "code",
   "execution_count": 14,
   "metadata": {},
   "outputs": [
    {
     "data": {
      "text/plain": [
       "'Abcdefg'"
      ]
     },
     "execution_count": 14,
     "metadata": {},
     "output_type": "execute_result"
    }
   ],
   "source": [
    "my_string.capitalize()  # Pasa primer carácter a mayúsucula"
   ]
  },
  {
   "cell_type": "code",
   "execution_count": 15,
   "metadata": {},
   "outputs": [
    {
     "data": {
      "text/plain": [
       "'ABCDEFG'"
      ]
     },
     "execution_count": 15,
     "metadata": {},
     "output_type": "execute_result"
    }
   ],
   "source": [
    "my_string.upper()  # Todos los caracteres a mayúsculas"
   ]
  },
  {
   "cell_type": "code",
   "execution_count": 16,
   "metadata": {},
   "outputs": [
    {
     "data": {
      "text/plain": [
       "True"
      ]
     },
     "execution_count": 16,
     "metadata": {},
     "output_type": "execute_result"
    }
   ],
   "source": [
    "my_string.startswith('abc')  # Comprueba el comienzo de la secuencia"
   ]
  },
  {
   "cell_type": "code",
   "execution_count": 17,
   "metadata": {},
   "outputs": [
    {
     "data": {
      "text/plain": [
       "True"
      ]
     },
     "execution_count": 17,
     "metadata": {},
     "output_type": "execute_result"
    }
   ],
   "source": [
    "my_string.endswith('efg')  # Comprueba fin de la secuencia"
   ]
  },
  {
   "cell_type": "code",
   "execution_count": 55,
   "metadata": {},
   "outputs": [
    {
     "data": {
      "text/plain": [
       "False"
      ]
     },
     "execution_count": 55,
     "metadata": {},
     "output_type": "execute_result"
    }
   ],
   "source": [
    "'-12345'.isdigit()  # Comprueba si todos los caracteres son dígitos"
   ]
  },
  {
   "cell_type": "code",
   "execution_count": 63,
   "metadata": {},
   "outputs": [
    {
     "data": {
      "text/plain": [
       "'blank spaces   '"
      ]
     },
     "execution_count": 63,
     "metadata": {},
     "output_type": "execute_result"
    }
   ],
   "source": [
    "import string\n",
    "spaces = \"   ...........  blank spaces   \"\n",
    "spaces.lstrip(string.punctuation + \"a \")  # Quita espacios en blanco a la izquierda string.punctuation hace que se borre lo que hay, al primero que falle deja de quitar, por lo tanto la a no se quita"
   ]
  },
  {
   "cell_type": "code",
   "execution_count": 64,
   "metadata": {},
   "outputs": [
    {
     "data": {
      "text/plain": [
       "'   ...........  blank spaces'"
      ]
     },
     "execution_count": 64,
     "metadata": {},
     "output_type": "execute_result"
    }
   ],
   "source": [
    "spaces.rstrip()  # Quita espacios en blanco a la derecha"
   ]
  },
  {
   "cell_type": "code",
   "execution_count": 65,
   "metadata": {},
   "outputs": [
    {
     "data": {
      "text/plain": [
       "'...........  blank spaces'"
      ]
     },
     "execution_count": 65,
     "metadata": {},
     "output_type": "execute_result"
    }
   ],
   "source": [
    "spaces.strip()  # Quita espacios en blanco a izquierda y derecha"
   ]
  },
  {
   "cell_type": "code",
   "execution_count": 12,
   "metadata": {},
   "outputs": [
    {
     "data": {
      "text/plain": [
       "['First pack', ' second pack', ' third pack']"
      ]
     },
     "execution_count": 12,
     "metadata": {},
     "output_type": "execute_result"
    }
   ],
   "source": [
    "# Devuelve una lista de elementos, separados por el delimitador escogido, parte los elementos por el caracter que pongas, en este caso por la coma\n",
    "'First pack, second pack, third pack'.split(\",\")"
   ]
  },
  {
   "cell_type": "code",
   "execution_count": 23,
   "metadata": {},
   "outputs": [
    {
     "data": {
      "text/plain": [
       "46"
      ]
     },
     "execution_count": 23,
     "metadata": {},
     "output_type": "execute_result"
    }
   ],
   "source": [
    "long_str = 'This is a ver very long sentences in which we need to find a substring'\n",
    "long_str.find(\"need\")  # Encuentra la posición de una cadena dentro del string"
   ]
  },
  {
   "cell_type": "code",
   "execution_count": 24,
   "metadata": {
    "scrolled": true
   },
   "outputs": [
    {
     "data": {
      "text/plain": [
       "True"
      ]
     },
     "execution_count": 24,
     "metadata": {},
     "output_type": "execute_result"
    }
   ],
   "source": [
    "'need' in long_str  # Comprueba la presencia de una cadena dentro del string"
   ]
  },
  {
   "cell_type": "code",
   "execution_count": 15,
   "metadata": {},
   "outputs": [
    {
     "data": {
      "text/plain": [
       "'123'"
      ]
     },
     "execution_count": 15,
     "metadata": {},
     "output_type": "execute_result"
    }
   ],
   "source": [
    "string = '   1   2    3'               # Borrar un caracter de todos los lados\n",
    "string = string.replace(' ','')\n",
    "string"
   ]
  },
  {
   "cell_type": "code",
   "execution_count": 31,
   "metadata": {
    "scrolled": true
   },
   "outputs": [
    {
     "data": {
      "text/plain": [
       "'hol que tal'"
      ]
     },
     "execution_count": 31,
     "metadata": {},
     "output_type": "execute_result"
    }
   ],
   "source": [
    "string = 'hola que tal'                  #Elimina solo la primera a\n",
    "string.replace('a', '', 1)\n"
   ]
  },
  {
   "cell_type": "code",
   "execution_count": 38,
   "metadata": {},
   "outputs": [
    {
     "data": {
      "text/plain": [
       "'hl qu tl'"
      ]
     },
     "execution_count": 38,
     "metadata": {},
     "output_type": "execute_result"
    }
   ],
   "source": [
    "string.replace('a', '').replace('e','').replace('o','') # Varias seguidas\n"
   ]
  },
  {
   "cell_type": "code",
   "execution_count": 39,
   "metadata": {},
   "outputs": [
    {
     "data": {
      "text/plain": [
       "'ola e tal'"
      ]
     },
     "execution_count": 39,
     "metadata": {},
     "output_type": "execute_result"
    }
   ],
   "source": [
    "(string.replace('h', '')      # Para escribir en dos diferentes se pone parentesis al principio y al final\n",
    "      .replace('q', '')\n",
    "      .replace('u', ''))"
   ]
  },
  {
   "cell_type": "code",
   "execution_count": 45,
   "metadata": {},
   "outputs": [
    {
     "data": {
      "text/plain": [
       "'hl qu tl'"
      ]
     },
     "execution_count": 45,
     "metadata": {},
     "output_type": "execute_result"
    }
   ],
   "source": [
    "import re # Cómo sustituir dos caracteres de una, re = regular expresions 1-que quiero que busque,2-en que quiero que lo cconvierta,3-donde\n",
    "re.sub(\"a|e|o\", \"\", string)"
   ]
  },
  {
   "cell_type": "code",
   "execution_count": 47,
   "metadata": {},
   "outputs": [
    {
     "data": {
      "text/plain": [
       "'hl qu tl'"
      ]
     },
     "execution_count": 47,
     "metadata": {},
     "output_type": "execute_result"
    }
   ],
   "source": [
    "string.translate(string.maketrans('', '', 'aeo' )) #Se hace asi porque no tienen mismo numero de caracteres, para traducir a caracter inexistente"
   ]
  },
  {
   "cell_type": "code",
   "execution_count": 53,
   "metadata": {},
   "outputs": [
    {
     "data": {
      "text/plain": [
       "'hl qu tl'"
      ]
     },
     "execution_count": 53,
     "metadata": {},
     "output_type": "execute_result"
    }
   ],
   "source": [
    "traduccion = {'a':'', 'e':'', 'o':''}  \n",
    "string.translate(string.maketrans(traduccion))\n"
   ]
  },
  {
   "cell_type": "markdown",
   "metadata": {
    "collapsed": true
   },
   "source": [
    "## Ejercicios"
   ]
  },
  {
   "cell_type": "markdown",
   "metadata": {},
   "source": [
    "### 1. Encontrar subsecuencias en datos de secuendias de ADN"
   ]
  },
  {
   "cell_type": "markdown",
   "metadata": {},
   "source": [
    "Considera los siguientes strings, que representan secuencias de nucleótidos:"
   ]
  },
  {
   "cell_type": "code",
   "execution_count": 2,
   "metadata": {},
   "outputs": [],
   "source": [
    "subseq1 = 'actg'\n",
    "subseq2 = 'agct'\n",
    "subseq3 = 'tcga'\n",
    "subseq4 = 'TGGATCCA'"
   ]
  },
  {
   "cell_type": "code",
   "execution_count": 58,
   "metadata": {},
   "outputs": [],
   "source": [
    "subseq1 = subseq1.upper()  # Tambien se puede poner seq_dna.find(subseq1.upper())\n",
    "subseq2 = subseq2.upper()\n",
    "subseq3 = subseq3.upper()"
   ]
  },
  {
   "cell_type": "markdown",
   "metadata": {},
   "source": [
    "Usando los métodos para strings adecuados, encuentra la posición de todas las apariciones de los strings anteriores dentor de la secuencia:"
   ]
  },
  {
   "cell_type": "code",
   "execution_count": 56,
   "metadata": {},
   "outputs": [],
   "source": [
    "seq_dna= \"\"\"ACAAGATGCCATTGTCCCCCGGCCTCCTGCTGCTGCTGCTCTCCGGGGCCACGGCCACCGCTGCCCTGCC\n",
    "CCTGGAGGGTGGCCCCACCGGCCGAGACAGCGAGCATATGCAGGAAGCGGCAGGAATAAGGAAAAGCAGC\n",
    "CTCCTGACTTTCCTCGCTTGGTGGTTTGAGTGGACCTCCCAGGCCAGTGCCGGGCCCCTCATAGGAGAGG\n",
    "AAGCTCGGGAGGTGGCCAGGCGGCAGGAAGGCGCACCCCCCCAGCAATCCGCGCGCCGGGACAGAATGCC\n",
    "CTGCAGGAACTTCTTCTGGAAGACCTTCTCCTCCTGCAAATAAAACCTCACCCATGAATGCTCACGCAAG\n",
    "TTTAATTACAGACCTGAA\"\"\""
   ]
  },
  {
   "cell_type": "code",
   "execution_count": 64,
   "metadata": {},
   "outputs": [
    {
     "data": {
      "text/plain": [
       "-1"
      ]
     },
     "execution_count": 64,
     "metadata": {},
     "output_type": "execute_result"
    }
   ],
   "source": [
    "seq_dna.find(subseq1) #214 = indice(index) es la posicion del primer caracter de la subsecuencia"
   ]
  },
  {
   "cell_type": "code",
   "execution_count": 70,
   "metadata": {},
   "outputs": [
    {
     "data": {
      "text/plain": [
       "214"
      ]
     },
     "execution_count": 70,
     "metadata": {},
     "output_type": "execute_result"
    }
   ],
   "source": [
    "seq_dna.find(subseq2) # La primera vez que sale, hay que buscar todas\n"
   ]
  },
  {
   "cell_type": "code",
   "execution_count": 71,
   "metadata": {},
   "outputs": [
    {
     "data": {
      "text/plain": [
       "-1"
      ]
     },
     "execution_count": 71,
     "metadata": {},
     "output_type": "execute_result"
    }
   ],
   "source": [
    "seq_dna.find(subseq2, 215) #Empieza a ver si hay otro a partir del siguiente caracter"
   ]
  },
  {
   "cell_type": "code",
   "execution_count": 66,
   "metadata": {
    "scrolled": true
   },
   "outputs": [
    {
     "data": {
      "text/plain": [
       "-1"
      ]
     },
     "execution_count": 66,
     "metadata": {},
     "output_type": "execute_result"
    }
   ],
   "source": [
    "seq_dna.find(subseq3)"
   ]
  },
  {
   "cell_type": "code",
   "execution_count": 67,
   "metadata": {},
   "outputs": [
    {
     "data": {
      "text/plain": [
       "-1"
      ]
     },
     "execution_count": 67,
     "metadata": {},
     "output_type": "execute_result"
    }
   ],
   "source": [
    "seq_dna.find(subseq4)"
   ]
  },
  {
   "cell_type": "markdown",
   "metadata": {},
   "source": [
    "### 2. Comprobar formato de datos string de entrada"
   ]
  },
  {
   "cell_type": "markdown",
   "metadata": {},
   "source": [
    "Considera un programa en Python en el que hay que comprobar que un string de entrada introducido por el usuario cumple las siguientes reglas:\n",
    "\n",
    "- Todos los caracteres son minúsculas.\n",
    "- Todos los caracteres son alfabéticos.\n",
    "- Todos los caracteres son alguno de los incluidos en el conjunto $\\{a, c, g, t\\}$\n",
    "\n",
    "Usa funciones para strings en una variable que simule guardar datos de entrada introducidos por el usuario para forzar a que se cumplan estas reglas."
   ]
  },
  {
   "cell_type": "code",
   "execution_count": null,
   "metadata": {},
   "outputs": [],
   "source": []
  },
  {
   "cell_type": "code",
   "execution_count": null,
   "metadata": {},
   "outputs": [],
   "source": []
  }
 ],
 "metadata": {
  "kernelspec": {
   "display_name": "Python 3",
   "language": "python",
   "name": "python3"
  },
  "language_info": {
   "codemirror_mode": {
    "name": "ipython",
    "version": 3
   },
   "file_extension": ".py",
   "mimetype": "text/x-python",
   "name": "python",
   "nbconvert_exporter": "python",
   "pygments_lexer": "ipython3",
   "version": "3.6.5"
  }
 },
 "nbformat": 4,
 "nbformat_minor": 2
}
